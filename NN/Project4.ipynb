{
 "cells": [
  {
   "cell_type": "code",
   "execution_count": 1,
   "metadata": {
    "collapsed": true
   },
   "outputs": [],
   "source": [
    "import math\n",
    "import copy\n",
    "import random\n",
    "import matplotlib.pyplot as plt\n",
    "from matplotlib.ticker import MaxNLocator\n"
   ]
  },
  {
   "cell_type": "markdown",
   "metadata": {},
   "source": [
    "# neural network"
   ]
  },
  {
   "cell_type": "code",
   "execution_count": 2,
   "metadata": {
    "collapsed": true
   },
   "outputs": [],
   "source": [
    "def wgt(n):\n",
    "    x = 0\n",
    "    while x == 0:\n",
    "        x = random.random() - .5\n",
    "    x /= math.sqrt(n)*.5\n",
    "    return x\n",
    "\n",
    "def sigmoid(vals,weights):\n",
    "    sig = sum([vals[i]*weights[i] for i in vals if i in weights])\n",
    "    return 1/(1+math.e**(-1*sig))\n",
    "def weighted_avg(vals,weights):\n",
    "    sig = sum([vals[i]*weights[i] for i in vals if i in weights])\n",
    "    return sig/len(weights)\n",
    "class NE: #NE = net edge\n",
    "    def __init__(self,start,end,weight):\n",
    "        self.start = start\n",
    "        self.end = end\n",
    "        self.weight = weight\n",
    "def runnet(nodes, edges, inpt,res):\n",
    "    outputs = {}\n",
    "    layer = nodes[0]\n",
    "    res.append({})\n",
    "    for k,node in layer.items():\n",
    "        if k in edges[0]:\n",
    "            outputs[k]= node(inpt,edges[0][k])\n",
    "        elif k in inpt:\n",
    "            outputs[k]= node(inpt[k])\n",
    "        else:\n",
    "            outputs[k] = node()\n",
    "        res[-1][k] = outputs[k]\n",
    "    if len(nodes) == 1:\n",
    "        return res\n",
    "    else:\n",
    "        res = runnet(nodes[1:],edges[1:],outputs,res)\n",
    "    return res\n",
    "\n",
    "def errtool(res,tar,edges):\n",
    "    errs = [{} for i in range(len(res))]\n",
    "    for i in res[-1]:\n",
    "        y = res[-1][i]\n",
    "        t = tar[i] \n",
    "        errs[-1][i] =  y*(1-y)*(t-y)\n",
    "    for i in range(len(res)-2,0,-1):\n",
    "        for k in res[i]:  \n",
    "            tot = 0\n",
    "            hi = res[i][k]\n",
    "            errs[i][k] = hi*(1-hi)*sum([edges[i+1][k2][k]*errs[i+1][k2] for k2 in edges[i+1] if k in edges[i+1][k2]])\n",
    "    return errs\n",
    "def learn(edges,n,errs,res):\n",
    "    outedge = copy.deepcopy(edges)\n",
    "    for i in range(len(outedge)-1):\n",
    "        for outk in outedge[i+1]:\n",
    "            for ink in outedge[i+1][outk]:\n",
    "                try:\n",
    "                    outedge[i+1][outk][ink] += n*errs[i+1][outk]*res[i][ink]\n",
    "                except KeyError:\n",
    "                    pass\n",
    "    return outedge\n",
    "def read_file(fnm):\n",
    "    dataset = []\n",
    "    with open(fnm,'r') as f:\n",
    "        fs = f.read()\n",
    "        for line in fs.split('\\n'):\n",
    "            if len(line.split(' ')) < 30:\n",
    "                continue\n",
    "            dataset.append({'data':{'ipt%d'%i:int(j)/16 for i,j in enumerate(line.split(' ')[:-1])}, 'target':int(line.split(' ')[-1])})\n",
    "    return dataset\n",
    "def make_plot(succ_rates):\n",
    "    ax = plt.figure().gca()\n",
    "    plt.scatter([i for i in range(1,len(succ_rates)+1)],succ_rates)\n",
    "    plt.ylabel('success rate')\n",
    "    plt.xlabel('number of training iterations')\n",
    "    ax.xaxis.set_major_locator(MaxNLocator(integer=True))\n",
    "    plt.show()\n",
    "    print(succ_rates)"
   ]
  },
  {
   "cell_type": "markdown",
   "metadata": {},
   "source": [
    "# worksheet example"
   ]
  },
  {
   "cell_type": "code",
   "execution_count": null,
   "metadata": {
    "collapsed": true
   },
   "outputs": [],
   "source": [
    "nodes = [\n",
    "    {\n",
    "    'I1':lambda x: x,\n",
    "    'I2':lambda x: x,\n",
    "    'b0': lambda: 1\n",
    "    },\n",
    "    {\n",
    "        'h1':sigmoid,\n",
    "        'h2':sigmoid,\n",
    "        'b1': lambda: 1\n",
    "    },\n",
    "    {\n",
    "        'y': sigmoid\n",
    "    }\n",
    "]\n",
    "edges = [\n",
    "    {},\n",
    "    {'h1':{'b0':1,'I1':1,'I2':0.5},'h2':{'b0':1,'I1':-1,'I2':2}},\n",
    "    {'y':{'b1':1,'h1':1.5,'h2':-1}}\n",
    "]\n",
    "inputs = {'I1':0,'I2':1}\n",
    "tar = {'y':1}\n",
    "\n",
    "print(edges)\n",
    "res = runnet(nodes,edges,inputs,[])\n",
    "print(res)\n",
    "errs = errtool(res,tar,edges)\n",
    "print(errs)\n",
    "nedges = learn(edges,0.5,errs,res)\n",
    "print(nedges)"
   ]
  },
  {
   "cell_type": "markdown",
   "metadata": {},
   "source": [
    "# fishing data"
   ]
  },
  {
   "cell_type": "code",
   "execution_count": null,
   "metadata": {
    "collapsed": true
   },
   "outputs": [],
   "source": [
    "fishdat = []\n",
    "testinpt = {}\n",
    "with open('fishingNN.data','r') as f:\n",
    "    fstr = f.read()\n",
    "    last = False\n",
    "    for line in fstr.split('\\n'):\n",
    "        if line == \"\":\n",
    "            last = True\n",
    "            continue\n",
    "        elif last:\n",
    "            ls = line.split(',')\n",
    "            testinpt['wind'] = ls[0]\n",
    "            testinpt['water'] = ls[1]\n",
    "            testinpt['air'] = ls[2]\n",
    "            testinpt['forecast'] = ls[3]\n",
    "        else:\n",
    "            ls = line.split(',')\n",
    "            nn = {}\n",
    "            nn['wind'] = ls[0]\n",
    "            nn['water'] = ls[1]\n",
    "            nn['air'] = ls[2]\n",
    "            nn['forecast'] = ls[3]\n",
    "            nn['target'] = ls[4]\n",
    "            fishdat.append(nn)\n",
    "\"\"\"\n",
    "Training instances: 14\n",
    "• Test sample: 1 (included in dataset)\n",
    "• Categorical data w/4 attributes:\n",
    "- Wind: Strong, Weak\n",
    "- Water temp: Warm, Moderate, Cold\n",
    "- Air temp: Warm, Cool\n",
    "- Forecast: Sunny, Cloudy, Rainy\n",
    "• Target: Yes/No\n",
    "\"\"\"\n",
    "vals = {\n",
    "    'wind':['Strong','Weak'],\n",
    "    'water':['Warm', 'Moderate', 'Cold'],\n",
    "    'air':['Warm',\"Cool\"],\n",
    "    'forecast':['Sunny','Cloudy','Rainy']\n",
    "}\n",
    "nodes = [{}]\n",
    "for i in vals:\n",
    "    for j in vals[i]:\n",
    "        nodes[0][i+'-'+j] = lambda x: x\n",
    "nodes.append({i:sigmoid for i in vals})\n",
    "nodes.append({'yes': sigmoid,'no':sigmoid})\n",
    "\n",
    "\n",
    "#learn\n",
    "allerr = []\n",
    "for j in range(10):\n",
    "    lasterr = -1\n",
    "    lasterr2 = -1\n",
    "    edges = [\n",
    "        {},\n",
    "        {i:{i+'-'+j:(random.random()*-0.5)*2/math.sqrt(len(vals)) or (random.random()*-0.5)*2/math.sqrt(len(vals)) for j in vals[i]} for i in vals}\n",
    "    ]\n",
    "    edges.append({yn:{i:(random.random()*-0.5)*2/math.sqrt(2) or (random.random()*-0.5)*2/math.sqrt(2) for i in edges[1]} for yn in ['yes','no']})\n",
    "    for i in range(100):\n",
    "        itrerr = 0\n",
    "        for row in fishdat:\n",
    "            inputs = {}\n",
    "            for j in vals:\n",
    "                for k in vals[j]:\n",
    "                    inputs[j+'-'+k] = 1 if row[j] == k else -1\n",
    "            tar = ({'yes':1,'no':0} if row['target'] == 'Yes' else {'yes':0,'no':1})\n",
    "            res = runnet(nodes,edges,inputs,[])\n",
    "            errs = errtool(res,tar,edges)\n",
    "            edges = learn(copy.deepcopy(edges),0.05,errs,res)\n",
    "            itrerr += sum([errs[-1][j] for j in errs[-1]])\n",
    "        print(itrerr)\n",
    "        if itrerr == lasterr and lasterr == lasterr2: #if the last 3 runs have produced the same error, I can probably stop\n",
    "            break\n",
    "        else:\n",
    "            lasterr2 = lasterr\n",
    "            lasterr = itrerr\n",
    "        \n",
    "    allerr.append({'edges':edges,'err':itrerr})\n",
    "\n"
   ]
  },
  {
   "cell_type": "code",
   "execution_count": null,
   "metadata": {
    "collapsed": true
   },
   "outputs": [],
   "source": [
    "best = []\n",
    "inputs = {}\n",
    "for j in vals:\n",
    "    for k in vals[j]:\n",
    "        inputs[j+'-'+k] = 1 if testinpt[j] == k else -1\n",
    "for i in allerr:\n",
    "        if(i['err'] == min([j['err'] for j in allerr])):\n",
    "            best = i['edges']\n",
    "\n",
    "res = runnet(nodes,best,inputs,[])\n",
    "res"
   ]
  },
  {
   "cell_type": "markdown",
   "metadata": {},
   "source": [
    "# character recignition"
   ]
  },
  {
   "cell_type": "markdown",
   "metadata": {},
   "source": [
    "### no hidden layers"
   ]
  },
  {
   "cell_type": "code",
   "execution_count": 3,
   "metadata": {},
   "outputs": [
    {
     "name": "stdout",
     "output_type": "stream",
     "text": [
      "done with 1\n",
      "done with 2\n",
      "done with 3\n",
      "done with 4\n",
      "done with 5\n",
      "done with 6\n",
      "done with 7\n",
      "done with 8\n",
      "done with 9\n",
      "done with 10\n",
      "done with 11\n",
      "done with 12\n",
      "done traingin\n",
      "[0.904284919309961, 0.9176405119643851, 0.9232053422370617, 0.9254312743461325, 0.9287701725097385, 0.9276572064552031, 0.9315525876460768, 0.9315525876460768, 0.9326655537006121, 0.9343350027824151, 0.9332220367278798, 0.9348914858096828]\n"
     ]
    },
    {
     "ename": "ValueError",
     "evalue": "x and y must be the same size",
     "output_type": "error",
     "traceback": [
      "\u001b[0;31m---------------------------------------------------------------------------\u001b[0m",
      "\u001b[0;31mValueError\u001b[0m                                Traceback (most recent call last)",
      "\u001b[0;32m<ipython-input-3-887dd111530f>\u001b[0m in \u001b[0;36m<module>\u001b[0;34m()\u001b[0m\n\u001b[1;32m     38\u001b[0m     \u001b[0msucc_rates\u001b[0m\u001b[0;34m.\u001b[0m\u001b[0mappend\u001b[0m\u001b[0;34m(\u001b[0m\u001b[0mright\u001b[0m\u001b[0;34m/\u001b[0m\u001b[0mtot\u001b[0m\u001b[0;34m)\u001b[0m\u001b[0;34m\u001b[0m\u001b[0m\n\u001b[1;32m     39\u001b[0m \u001b[0mprint\u001b[0m\u001b[0;34m(\u001b[0m\u001b[0msucc_rates\u001b[0m\u001b[0;34m)\u001b[0m\u001b[0;34m\u001b[0m\u001b[0m\n\u001b[0;32m---> 40\u001b[0;31m \u001b[0mmake_plot\u001b[0m\u001b[0;34m(\u001b[0m\u001b[0msucc_rates\u001b[0m\u001b[0;34m)\u001b[0m\u001b[0;34m\u001b[0m\u001b[0m\n\u001b[0m",
      "\u001b[0;32m<ipython-input-2-0b6d233f3e61>\u001b[0m in \u001b[0;36mmake_plot\u001b[0;34m(succ_rates)\u001b[0m\n\u001b[1;32m     65\u001b[0m \u001b[0;32mdef\u001b[0m \u001b[0mmake_plot\u001b[0m\u001b[0;34m(\u001b[0m\u001b[0msucc_rates\u001b[0m\u001b[0;34m)\u001b[0m\u001b[0;34m:\u001b[0m\u001b[0;34m\u001b[0m\u001b[0m\n\u001b[1;32m     66\u001b[0m     \u001b[0max\u001b[0m \u001b[0;34m=\u001b[0m \u001b[0mplt\u001b[0m\u001b[0;34m.\u001b[0m\u001b[0mfigure\u001b[0m\u001b[0;34m(\u001b[0m\u001b[0;34m)\u001b[0m\u001b[0;34m.\u001b[0m\u001b[0mgca\u001b[0m\u001b[0;34m(\u001b[0m\u001b[0;34m)\u001b[0m\u001b[0;34m\u001b[0m\u001b[0m\n\u001b[0;32m---> 67\u001b[0;31m     \u001b[0mplt\u001b[0m\u001b[0;34m.\u001b[0m\u001b[0mscatter\u001b[0m\u001b[0;34m(\u001b[0m\u001b[0;34m[\u001b[0m\u001b[0mi\u001b[0m \u001b[0;32mfor\u001b[0m \u001b[0mi\u001b[0m \u001b[0;32min\u001b[0m \u001b[0mrange\u001b[0m\u001b[0;34m(\u001b[0m\u001b[0;36m1\u001b[0m\u001b[0;34m,\u001b[0m\u001b[0;36m21\u001b[0m\u001b[0;34m)\u001b[0m\u001b[0;34m]\u001b[0m\u001b[0;34m,\u001b[0m\u001b[0msucc_rates\u001b[0m\u001b[0;34m)\u001b[0m\u001b[0;34m\u001b[0m\u001b[0m\n\u001b[0m\u001b[1;32m     68\u001b[0m     \u001b[0mplt\u001b[0m\u001b[0;34m.\u001b[0m\u001b[0mylabel\u001b[0m\u001b[0;34m(\u001b[0m\u001b[0;34m'success rate'\u001b[0m\u001b[0;34m)\u001b[0m\u001b[0;34m\u001b[0m\u001b[0m\n\u001b[1;32m     69\u001b[0m     \u001b[0mplt\u001b[0m\u001b[0;34m.\u001b[0m\u001b[0mxlabel\u001b[0m\u001b[0;34m(\u001b[0m\u001b[0;34m'number of training iterations'\u001b[0m\u001b[0;34m)\u001b[0m\u001b[0;34m\u001b[0m\u001b[0m\n",
      "\u001b[0;32m~/anaconda3/lib/python3.6/site-packages/matplotlib/pyplot.py\u001b[0m in \u001b[0;36mscatter\u001b[0;34m(x, y, s, c, marker, cmap, norm, vmin, vmax, alpha, linewidths, verts, edgecolors, data, **kwargs)\u001b[0m\n\u001b[1;32m   2862\u001b[0m         \u001b[0mvmin\u001b[0m\u001b[0;34m=\u001b[0m\u001b[0mvmin\u001b[0m\u001b[0;34m,\u001b[0m \u001b[0mvmax\u001b[0m\u001b[0;34m=\u001b[0m\u001b[0mvmax\u001b[0m\u001b[0;34m,\u001b[0m \u001b[0malpha\u001b[0m\u001b[0;34m=\u001b[0m\u001b[0malpha\u001b[0m\u001b[0;34m,\u001b[0m \u001b[0mlinewidths\u001b[0m\u001b[0;34m=\u001b[0m\u001b[0mlinewidths\u001b[0m\u001b[0;34m,\u001b[0m\u001b[0;34m\u001b[0m\u001b[0m\n\u001b[1;32m   2863\u001b[0m         verts=verts, edgecolors=edgecolors, **({\"data\": data} if data\n\u001b[0;32m-> 2864\u001b[0;31m         is not None else {}), **kwargs)\n\u001b[0m\u001b[1;32m   2865\u001b[0m     \u001b[0msci\u001b[0m\u001b[0;34m(\u001b[0m\u001b[0m__ret\u001b[0m\u001b[0;34m)\u001b[0m\u001b[0;34m\u001b[0m\u001b[0m\n\u001b[1;32m   2866\u001b[0m     \u001b[0;32mreturn\u001b[0m \u001b[0m__ret\u001b[0m\u001b[0;34m\u001b[0m\u001b[0m\n",
      "\u001b[0;32m~/anaconda3/lib/python3.6/site-packages/matplotlib/__init__.py\u001b[0m in \u001b[0;36minner\u001b[0;34m(ax, data, *args, **kwargs)\u001b[0m\n\u001b[1;32m   1808\u001b[0m                         \u001b[0;34m\"the Matplotlib list!)\"\u001b[0m \u001b[0;34m%\u001b[0m \u001b[0;34m(\u001b[0m\u001b[0mlabel_namer\u001b[0m\u001b[0;34m,\u001b[0m \u001b[0mfunc\u001b[0m\u001b[0;34m.\u001b[0m\u001b[0m__name__\u001b[0m\u001b[0;34m)\u001b[0m\u001b[0;34m,\u001b[0m\u001b[0;34m\u001b[0m\u001b[0m\n\u001b[1;32m   1809\u001b[0m                         RuntimeWarning, stacklevel=2)\n\u001b[0;32m-> 1810\u001b[0;31m             \u001b[0;32mreturn\u001b[0m \u001b[0mfunc\u001b[0m\u001b[0;34m(\u001b[0m\u001b[0max\u001b[0m\u001b[0;34m,\u001b[0m \u001b[0;34m*\u001b[0m\u001b[0margs\u001b[0m\u001b[0;34m,\u001b[0m \u001b[0;34m**\u001b[0m\u001b[0mkwargs\u001b[0m\u001b[0;34m)\u001b[0m\u001b[0;34m\u001b[0m\u001b[0m\n\u001b[0m\u001b[1;32m   1811\u001b[0m \u001b[0;34m\u001b[0m\u001b[0m\n\u001b[1;32m   1812\u001b[0m         inner.__doc__ = _add_data_doc(inner.__doc__,\n",
      "\u001b[0;32m~/anaconda3/lib/python3.6/site-packages/matplotlib/axes/_axes.py\u001b[0m in \u001b[0;36mscatter\u001b[0;34m(self, x, y, s, c, marker, cmap, norm, vmin, vmax, alpha, linewidths, verts, edgecolors, **kwargs)\u001b[0m\n\u001b[1;32m   4180\u001b[0m         \u001b[0my\u001b[0m \u001b[0;34m=\u001b[0m \u001b[0mnp\u001b[0m\u001b[0;34m.\u001b[0m\u001b[0mma\u001b[0m\u001b[0;34m.\u001b[0m\u001b[0mravel\u001b[0m\u001b[0;34m(\u001b[0m\u001b[0my\u001b[0m\u001b[0;34m)\u001b[0m\u001b[0;34m\u001b[0m\u001b[0m\n\u001b[1;32m   4181\u001b[0m         \u001b[0;32mif\u001b[0m \u001b[0mx\u001b[0m\u001b[0;34m.\u001b[0m\u001b[0msize\u001b[0m \u001b[0;34m!=\u001b[0m \u001b[0my\u001b[0m\u001b[0;34m.\u001b[0m\u001b[0msize\u001b[0m\u001b[0;34m:\u001b[0m\u001b[0;34m\u001b[0m\u001b[0m\n\u001b[0;32m-> 4182\u001b[0;31m             \u001b[0;32mraise\u001b[0m \u001b[0mValueError\u001b[0m\u001b[0;34m(\u001b[0m\u001b[0;34m\"x and y must be the same size\"\u001b[0m\u001b[0;34m)\u001b[0m\u001b[0;34m\u001b[0m\u001b[0m\n\u001b[0m\u001b[1;32m   4183\u001b[0m \u001b[0;34m\u001b[0m\u001b[0m\n\u001b[1;32m   4184\u001b[0m         \u001b[0;32mif\u001b[0m \u001b[0ms\u001b[0m \u001b[0;32mis\u001b[0m \u001b[0;32mNone\u001b[0m\u001b[0;34m:\u001b[0m\u001b[0;34m\u001b[0m\u001b[0m\n",
      "\u001b[0;31mValueError\u001b[0m: x and y must be the same size"
     ]
    }
   ],
   "source": [
    "dataset = read_file('digits-training.data')\n",
    "nodes = [\n",
    "    {'ipt'+str(i):lambda x: x for i in range(len(dataset[0]['data']))}\n",
    "]   \n",
    "nodes.append({'y%d'%i:sigmoid for i in range(10)})\n",
    "succ_rates = []\n",
    "test_edges = []\n",
    "for its in range(1,13):\n",
    "    edges = [{}] \n",
    "    edges.append({i:{j:wgt(len(nodes[-2])) for j in nodes[-2]} for i in nodes[-1]})\n",
    "    for iteration in range(its):\n",
    "        itrerr = 0\n",
    "        for row in dataset:\n",
    "            inputs = row['data']\n",
    "            tar = row['target']\n",
    "            res= runnet(nodes,edges,inputs,[])\n",
    "            tar = {j:1 if i==tar else 0 for i,j in enumerate(nodes[-1].keys())}\n",
    "            errs = errtool(res,tar,edges)\n",
    "            edges = learn(copy.deepcopy(edges),0.05,errs,res)\n",
    "            itrerr += sum(errs[-1].values())\n",
    "            test = True\n",
    "    test_edges.append(copy.deepcopy(edges))\n",
    "    print('done with %d'%its)\n",
    "print('done traingin')\n",
    "succ_rates = []\n",
    "dataset = read_file('digits-test.data')\n",
    "for its,edges in enumerate(test_edges):\n",
    "    right = 0\n",
    "    tot = 0\n",
    "    for row in dataset:\n",
    "        inputs = row['data']\n",
    "        tar = row['target']\n",
    "        res= runnet(nodes,edges,inputs,[])\n",
    "        guess = sum([int(i.replace('y','')) if j == max(res[-1].values()) else 0 for i,j in res[-1].items()])\n",
    "        if tar == guess:\n",
    "            right+=1\n",
    "        tot += 1\n",
    "    succ_rates.append(right/tot)\n",
    "print(succ_rates)\n",
    "make_plot(succ_rates)"
   ]
  },
  {
   "cell_type": "code",
   "execution_count": 6,
   "metadata": {},
   "outputs": [
    {
     "data": {
      "image/png": "[encoded data removed]",
      "text/plain": [
       "<Figure size 432x288 with 1 Axes>"
      ]
     },
     "metadata": {},
     "output_type": "display_data"
    },
    {
     "name": "stdout",
     "output_type": "stream",
     "text": [
      "[0.904284919309961, 0.9176405119643851, 0.9232053422370617, 0.9254312743461325, 0.9287701725097385, 0.9276572064552031, 0.9315525876460768, 0.9315525876460768, 0.9326655537006121, 0.9343350027824151, 0.9332220367278798, 0.9348914858096828]\n"
     ]
    }
   ],
   "source": [
    "make_plot(succ_rates)"
   ]
  },
  {
   "cell_type": "markdown",
   "metadata": {},
   "source": [
    "### One hidden layer"
   ]
  },
  {
   "cell_type": "code",
   "execution_count": 7,
   "metadata": {},
   "outputs": [
    {
     "name": "stdout",
     "output_type": "stream",
     "text": [
      "done with 1\n",
      "done with 2\n",
      "done with 3\n",
      "done with 4\n",
      "done with 5\n",
      "done with 6\n",
      "done with 7\n",
      "done with 8\n",
      "done with 9\n",
      "done with 10\n",
      "done with 11\n",
      "done with 12\n",
      "done traingin\n",
      "[0.22092376182526433, 0.676126878130217, 0.8703394546466333, 0.9053978853644964, 0.9204229271007234, 0.9287701725097385, 0.9259877573734001, 0.9337785197551475, 0.9398998330550918, 0.9410127991096272, 0.9415692821368948, 0.9437952142459655]\n"
     ]
    },
    {
     "data": {
      "image/png": "[encoded data removed]",
      "text/plain": [
       "<Figure size 432x288 with 1 Axes>"
      ]
     },
     "metadata": {},
     "output_type": "display_data"
    },
    {
     "name": "stdout",
     "output_type": "stream",
     "text": [
      "[0.22092376182526433, 0.676126878130217, 0.8703394546466333, 0.9053978853644964, 0.9204229271007234, 0.9287701725097385, 0.9259877573734001, 0.9337785197551475, 0.9398998330550918, 0.9410127991096272, 0.9415692821368948, 0.9437952142459655]\n"
     ]
    }
   ],
   "source": [
    "dataset = read_file('digits-training.data')\n",
    "nodes = [\n",
    "    {'ipt'+str(i):lambda x: x for i in range(len(dataset[0]['data']))}\n",
    "]   \n",
    "ls = lambda x,y: int((x+y)*(2/3))\n",
    "nodes.append({'h%d'%i:sigmoid for i in range(ls(10,64))})\n",
    "nodes.append({'y%d'%i:sigmoid for i in range(10)})\n",
    "succ_rates = []\n",
    "test_edges = []\n",
    "for its in range(1,13):\n",
    "    edges = [{}] \n",
    "    \n",
    "    for i in range(len(nodes)-2):\n",
    "        bigkeys = list(nodes[i+1])\n",
    "        lilkeys = list(nodes[i])\n",
    "        #edges.append({bigkeys[j]:{lilkeys[2*j]:wgt(len(nodes[i])),lilkeys[2*j+1]:wgt(len(nodes[i]))} for j in range(len(nodes[i+1]))})\n",
    "        edges.append({j:{k:wgt(len(nodes[i])) for k in nodes[i]} for j in nodes[i+1]})\n",
    "    edges.append({i:{j:wgt(len(nodes[-2])) for j in nodes[-2]} for i in nodes[-1]})\n",
    "    for iteration in range(its):\n",
    "        itrerr = 0\n",
    "        for row in dataset:\n",
    "            inputs = row['data']\n",
    "            tar = row['target']\n",
    "            res= runnet(nodes,edges,inputs,[])\n",
    "            tar = {j:1 if i==tar else 0 for i,j in enumerate(nodes[-1].keys())}\n",
    "            errs = errtool(res,tar,edges)\n",
    "            edges = learn(copy.deepcopy(edges),0.05,errs,res)\n",
    "            itrerr += sum(errs[-1].values())\n",
    "            test = True\n",
    "    test_edges.append(copy.deepcopy(edges))\n",
    "    print('done with %d'%its)\n",
    "print('done traingin')\n",
    "succ_rates = []\n",
    "dataset = read_file('digits-test.data')\n",
    "for its,edges in enumerate(test_edges):\n",
    "    right = 0\n",
    "    tot = 0\n",
    "    for row in dataset:\n",
    "        inputs = row['data']\n",
    "        tar = row['target']\n",
    "        res= runnet(nodes,edges,inputs,[])\n",
    "        guess = sum([int(i.replace('y','')) if j == max(res[-1].values()) else 0 for i,j in res[-1].items()])\n",
    "        if tar == guess:\n",
    "            right+=1\n",
    "        tot += 1\n",
    "    succ_rates.append(right/tot)\n",
    "print(succ_rates)\n",
    "make_plot(succ_rates)"
   ]
  },
  {
   "cell_type": "markdown",
   "metadata": {},
   "source": [
    "### adjacency"
   ]
  },
  {
   "cell_type": "code",
   "execution_count": 12,
   "metadata": {},
   "outputs": [
    {
     "name": "stdout",
     "output_type": "stream",
     "text": [
      "done with 1\n",
      "done with 2\n",
      "done with 3\n",
      "done with 4\n",
      "done with 5\n",
      "done with 6\n",
      "done with 7\n",
      "done with 8\n",
      "done with 9\n",
      "done with 10\n",
      "done with 11\n",
      "done with 12\n",
      "done traingin\n",
      "[0.1407902058987201, 0.5681691708402894, 0.7857540345019477, 0.8948247078464107, 0.9165275459098498, 0.9265442404006677, 0.9298831385642737, 0.9304396215915415, 0.9354479688369505, 0.9410127991096272, 0.9432387312186978, 0.9437952142459655]\n"
     ]
    },
    {
     "data": {
      "image/png": "[encoded data removed]",
      "text/plain": [
       "<Figure size 432x288 with 1 Axes>"
      ]
     },
     "metadata": {},
     "output_type": "display_data"
    },
    {
     "name": "stdout",
     "output_type": "stream",
     "text": [
      "[0.1407902058987201, 0.5681691708402894, 0.7857540345019477, 0.8948247078464107, 0.9165275459098498, 0.9265442404006677, 0.9298831385642737, 0.9304396215915415, 0.9354479688369505, 0.9410127991096272, 0.9432387312186978, 0.9437952142459655]\n"
     ]
    }
   ],
   "source": [
    "dataset = read_file('digits-training.data')\n",
    "nodes = [\n",
    "    {'ipt'+str(i):lambda x: x for i in range(len(dataset[0]['data']))}\n",
    "]   \n",
    "midnodes = {}\n",
    "for i in range(8):\n",
    "    for j in range(7):\n",
    "        midnodes['lr%d-%d'%(i,j)] = weighted_avg\n",
    "for i in range(7):\n",
    "    for j in range(8):\n",
    "        midnodes['ud%d-%d'%(i,j)] = weighted_avg\n",
    "for i in range(int((64+10)*(2/3))):\n",
    "    midnodes['h%d'%i] = sigmoid\n",
    "nodes.append(midnodes)\n",
    "nodes.append({'y%d'%i:sigmoid for i in range(10)})\n",
    "succ_rates = []\n",
    "test_edges = []\n",
    "for its in range(1,13):\n",
    "    edges = [{}] \n",
    "    edges.append({})\n",
    "    for i in range(int((64+10)*(2/3))):\n",
    "        edges[-1]['h%d'%i] = {j:wgt(len(nodes[0])) for j in nodes[0]}\n",
    "    for i in range(8):\n",
    "        for j in range(7):\n",
    "            edges[-1]['lr%d-%d'%(i,j)] = {'ipt%d'%(i*8+j):wgt(len(nodes[0])),'ipt%d'%(i*8+j+1):wgt(len(nodes[0]))}\n",
    "    for i in range(7):\n",
    "        for j in range(8):\n",
    "            edges[-1]['ud%d-%d'%(i,j)] = {'ipt%d'%(i*8+j):wgt(len(nodes[0])),'ipt%d'%((i+1)*8+j):wgt(len(nodes[0]))}\n",
    "    \n",
    "    edges.append({i:{j:wgt(len(nodes[-2])) for j in nodes[-2]} for i in nodes[-1]})\n",
    "    for iteration in range(its):\n",
    "        itrerr = 0\n",
    "        for row in dataset:\n",
    "            inputs = row['data']\n",
    "            tar = row['target']\n",
    "            res= runnet(nodes,edges,inputs,[])\n",
    "            tar = {j:1 if i==tar else 0 for i,j in enumerate(nodes[-1].keys())}\n",
    "            errs = errtool(res,tar,edges)\n",
    "            edges = learn(copy.deepcopy(edges),0.05,errs,res)\n",
    "            itrerr += sum(errs[-1].values())\n",
    "            test = True\n",
    "    test_edges.append(copy.deepcopy(edges))\n",
    "    print('done with %d'%its)\n",
    "print('done traingin')\n",
    "succ_rates = []\n",
    "dataset = read_file('digits-test.data')\n",
    "for its,edges in enumerate(test_edges):\n",
    "    right = 0\n",
    "    tot = 0\n",
    "    for row in dataset:\n",
    "        inputs = row['data']\n",
    "        tar = row['target']\n",
    "        res= runnet(nodes,edges,inputs,[])\n",
    "        guess = sum([int(i.replace('y','')) if j == max(res[-1].values()) else 0 for i,j in res[-1].items()])\n",
    "        if tar == guess:\n",
    "            right+=1\n",
    "        tot += 1\n",
    "    succ_rates.append(right/tot)\n",
    "print(succ_rates)\n",
    "make_plot(succ_rates)"
   ]
  },
  {
   "cell_type": "markdown",
   "metadata": {
    "collapsed": true
   },
   "source": [
    "### multiple node configurations"
   ]
  },
  {
   "cell_type": "code",
   "execution_count": 11,
   "metadata": {},
   "outputs": [
    {
     "name": "stdout",
     "output_type": "stream",
     "text": [
      "done with 0\n",
      "done with 1\n",
      "done with 2\n",
      "done with 3\n",
      "done with 4\n",
      "done with 5\n",
      "done with 6\n",
      "done with 7\n",
      "done with 8\n",
      "done with 9\n",
      "done with 10\n",
      "done with 11\n",
      "done with 12\n",
      "done traingin\n"
     ]
    }
   ],
   "source": [
    "dataset = read_file('digits-training.data')\n",
    "succ_rates = []\n",
    "test_edges = []\n",
    "test_nodes = []\n",
    "nodes = [\n",
    "    {'ipt'+str(i):lambda x: x for i in range(len(dataset[0]['data']))}\n",
    "] \n",
    "\n",
    "nodes.append({'h0%d'%i:sigmoid for i in range(64)})\n",
    "nodes.append({'h1%d'%i:sigmoid for i in range(64)})\n",
    "nodes.append({'y%d'%i:sigmoid for i in range(10)})\n",
    "edges = [{}] \n",
    "edges.append({j:{k:wgt(len(nodes[0])) for k in nodes[0]} for j in nodes[1]})\n",
    "edges.append({j:{k:wgt(len(nodes[1])) for k in nodes[1]} for j in nodes[2]})\n",
    "edges.append({i:{j:wgt(len(nodes[-2])) for j in nodes[-2]} for i in nodes[-1]})\n",
    "for its in range(25):\n",
    "    hid_errs = [{k:0 for k in nodes[1]},{k:0 for k in nodes[2]}]\n",
    "    for iteration in range(8):\n",
    "        itrerr = 0\n",
    "        for row in dataset:\n",
    "            inputs = row['data']\n",
    "            tar = row['target']\n",
    "            res= runnet(nodes,edges,inputs,[])\n",
    "            tar = {j:1 if i==tar else 0 for i,j in enumerate(nodes[-1].keys())}\n",
    "            errs = errtool(res,tar,edges)\n",
    "            for k in errs[1]:\n",
    "                hid_errs[0][k] += errs[1][k]\n",
    "            for k in errs[2]:\n",
    "                hid_errs[1][k] += errs[2][k]\n",
    "            edges = learn(copy.deepcopy(edges),0.05,errs,res)\n",
    "            itrerr += sum(errs[-1].values())\n",
    "            test = True\n",
    "    test_edges.append(copy.deepcopy(edges))\n",
    "    test_nodes.append(copy.deepcopy(nodes))\n",
    "    try:\n",
    "        maxe = [max(hid_errs[i].values()) for i in range(len(hid_errs))]\n",
    "    except ValueError:\n",
    "        break\n",
    "    \n",
    "    todel = [[],[]]\n",
    "    for i,j in enumerate(hid_errs):\n",
    "        for k in j:\n",
    "            if hid_errs[i][k]/maxe[i] > random.random()*.75:\n",
    "                todel[i].append(k)\n",
    "    for i,j in enumerate(todel):\n",
    "        if its > 5 or i <1:\n",
    "            for k in todel[i]:\n",
    "                del nodes[i+1][k]\n",
    "                del edges[i+1][k]\n",
    "                for ed in edges[i+2]:\n",
    "                    if k in edges[i+2][ed]:\n",
    "                        del edges[i+2][ed][k]\n",
    "    for k in edges[2]:\n",
    "        if hid_errs[1][k]/maxe[1] < random.random()*.25:\n",
    "            for k2 in hid_errs[0]:\n",
    "                if hid_errs[0][k2]/maxe[0] < random.random()*.25:\n",
    "                    if k2 not in edges[2][k]:\n",
    "                        edges[2][k][k2] = wgt(len(edges[1]))\n",
    "    \n",
    "    print('done with %d'%its)\n",
    "print('done traingin')\n"
   ]
  },
  {
   "cell_type": "code",
   "execution_count": 12,
   "metadata": {},
   "outputs": [
    {
     "name": "stdout",
     "output_type": "stream",
     "text": [
      "[0.6688925987757374, 0.899276572064552, 0.9309961046188091, 0.9415692821368948, 0.9476905954368392, 0.9521424596549806, 0.9510294936004452, 0.9476905954368392, 0.9476905954368392, 0.9437952142459655, 0.9376739009460211, 0.8970506399554814, 0.8464106844741235, 0.09682804674457429]\n"
     ]
    },
    {
     "data": {
      "image/png": "[encoded data removed]",
      "text/plain": [
       "<Figure size 432x288 with 1 Axes>"
      ]
     },
     "metadata": {},
     "output_type": "display_data"
    },
    {
     "name": "stdout",
     "output_type": "stream",
     "text": [
      "[0.6688925987757374, 0.899276572064552, 0.9309961046188091, 0.9415692821368948, 0.9476905954368392, 0.9521424596549806, 0.9510294936004452, 0.9476905954368392, 0.9476905954368392, 0.9437952142459655, 0.9376739009460211, 0.8970506399554814, 0.8464106844741235, 0.09682804674457429]\n"
     ]
    }
   ],
   "source": [
    "succ_rates = []\n",
    "dataset = read_file('digits-test.data')\n",
    "for its,edges in enumerate(test_edges):\n",
    "    right = 0\n",
    "    tot = 0\n",
    "    for row in dataset:\n",
    "        inputs = row['data']\n",
    "        tar = row['target']\n",
    "        res= runnet(test_nodes[its],test_edges[its],inputs,[])\n",
    "        guess = sum([int(i.replace('y','')) if j == max(res[-1].values()) else 0 for i,j in res[-1].items()])\n",
    "        if tar == guess:\n",
    "            right+=1\n",
    "        tot += 1\n",
    "    succ_rates.append(right/tot)\n",
    "print(succ_rates)\n",
    "make_plot(succ_rates)"
   ]
  },
  {
   "cell_type": "code",
   "execution_count": 18,
   "metadata": {},
   "outputs": [
    {
     "data": {
      "text/plain": [
       "13"
      ]
     },
     "execution_count": 18,
     "metadata": {},
     "output_type": "execute_result"
    }
   ],
   "source": [
    "len(test_nodes[7][1])"
   ]
  },
  {
   "cell_type": "code",
   "execution_count": 21,
   "metadata": {},
   "outputs": [
    {
     "name": "stdout",
     "output_type": "stream",
     "text": [
      "66.9%\n",
      "89.9%\n",
      "93.1%\n",
      "94.2%\n",
      "94.8%\n",
      "95.2%\n",
      "95.1%\n",
      "94.8%\n",
      "94.8%\n",
      "94.4%\n",
      "93.8%\n",
      "89.7%\n",
      "84.6%\n",
      "9.7%\n"
     ]
    }
   ],
   "source": [
    "for i in succ_rates:\n",
    "    print(\"%.1f%%\"%(i*100))"
   ]
  }
 ],
 "metadata": {
  "kernelspec": {
   "display_name": "Python 3",
   "language": "python",
   "name": "python3"
  },
  "language_info": {
   "codemirror_mode": {
    "name": "ipython",
    "version": 3
   },
   "file_extension": ".py",
   "mimetype": "text/x-python",
   "name": "python",
   "nbconvert_exporter": "python",
   "pygments_lexer": "ipython3",
   "version": "3.6.8"
  }
 },
 "nbformat": 4,
 "nbformat_minor": 2
}
