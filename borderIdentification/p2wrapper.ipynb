{
 "cells": [
  {
   "cell_type": "markdown",
   "metadata": {},
   "source": [
    "# convert file to bitmap pgm style bitmap"
   ]
  },
  {
   "cell_type": "code",
   "execution_count": 1,
   "metadata": {
    "collapsed": true
   },
   "outputs": [],
   "source": []
  },
  {
   "cell_type": "code",
   "execution_count": 4,
   "metadata": {},
   "outputs": [
    {
     "name": "stdout",
     "output_type": "stream",
     "text": [
      "Single thread took 0.113424 seconds\n",
      "4 threads took 0.055630 seconds\n",
      "for a speedup of 2.038920\n",
      "mean:42.874753, sd:2142.772898, max:960.000000\n",
      "OUT_80_chryseobacterium.pgm\n",
      "\n"
     ]
    }
   ],
   "source": []
  },
  {
   "cell_type": "code",
   "execution_count": 5,
   "metadata": {},
   "outputs": [
    {
     "name": "stdout",
     "output_type": "stream",
     "text": [
      "Single thread took 0.130676 seconds\n",
      "4 threads took 0.065013 seconds\n",
      "for a speedup of 2.009991\n",
      "mean:42.874753, sd:2142.772898, max:960.000000\n",
      "OUT_80_chryseobacterium.pgm\n",
      "\n"
     ]
    }
   ],
   "source": [
    "import subprocess\n",
    "import PIL\n",
    "\n",
    "fname = 'face.png'\n",
    "threshold = 80\n",
    "\n",
    "img = PIL.Image.open(fname)\n",
    "rgb_img= img.convert('RGB')\n",
    "bmap = [[0 for w in range(img.width)] for h in range(img.height)]\n",
    "maxval = 0\n",
    "for h in range(img.height):\n",
    "    for w in range(img.width):\n",
    "        r, g, b = rgb_img.getpixel((w, h))\n",
    "        val = r * (256)**2 + g*256 + b\n",
    "        bmap[h][w] = val\n",
    "        if val > maxval:\n",
    "            maxval = val\n",
    "            \n",
    "outf = open(fname.split('.')[0]+'_map.ppm','w')\n",
    "outf.write(\"P6\\n\"+str(img.width)+\" \"+ str(img.height)+\"\\n16777215\\n\")\n",
    "for h in range(img.height):\n",
    "    for w in range(img.width):\n",
    "        bmap[h][w]*3\n",
    "        outf.write(str(int(bmap[h][w])))\n",
    "        if w < img.width -1:\n",
    "            outf.write(' ')\n",
    "    outf.write(\"\\n\")\n",
    "\n",
    "result = subprocess.run(['./bi', 'chryseobacterium.pgm','80'], stdout=subprocess.PIPE)\n",
    "print(result.stdout.decode('utf-8'))"
   ]
  },
  {
   "cell_type": "code",
   "execution_count": null,
   "metadata": {
    "collapsed": true
   },
   "outputs": [],
   "source": []
  }
 ],
 "metadata": {
  "kernelspec": {
   "display_name": "Python 3",
   "language": "python",
   "name": "python3"
  },
  "language_info": {
   "codemirror_mode": {
    "name": "ipython",
    "version": 3
   },
   "file_extension": ".py",
   "mimetype": "text/x-python",
   "name": "python",
   "nbconvert_exporter": "python",
   "pygments_lexer": "ipython3",
   "version": "3.6.8"
  }
 },
 "nbformat": 4,
 "nbformat_minor": 2
}
